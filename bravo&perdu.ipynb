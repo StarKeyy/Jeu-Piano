@app.route("/bravo")
def bravo_page():
    return render_template("bravo.html", username=session['username'], niveau=session['niveau'], score=session['score'])

@app.route("/perdu")
def perdu_page():
    return render_template("perdu.html", username=session['username'], niveau=session['niveau'], score=session['score'])
